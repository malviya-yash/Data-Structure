{
  "nbformat": 4,
  "nbformat_minor": 0,
  "metadata": {
    "colab": {
      "provenance": []
    },
    "kernelspec": {
      "name": "python3",
      "display_name": "Python 3"
    },
    "language_info": {
      "name": "python"
    }
  },
  "cells": [
    {
      "cell_type": "markdown",
      "source": [
        "**Data Structure**"
      ],
      "metadata": {
        "id": "21iPHfPyGjLw"
      }
    },
    {
      "cell_type": "markdown",
      "source": [
        "1. What are data structures, and why are they important?\n",
        "   - A data structure is way of organizing and storing data so that it can be accessed and used efficiently.it define the relationship between the data and the operations that can be perfomed on that data.\n",
        "   Why are data structure important\n",
        "\n",
        "    . They help in managing large amounts of data efficiently\n",
        "\n",
        "    . They are essential for writing efficient algorithms\n",
        "\n",
        "    . The right data structure can optimize time and space.\n",
        "\n",
        "    . They are widely used in areas like databases, operating system, Ai and\n",
        "      more.\n",
        "\n",
        "2. Explain the difference between mutable and immutable data types with examples.\n",
        "   - Mutable data: can be changed after they are created. mutable data modify\n",
        "     them without creating a new object. examples: list, dict (dictionary), set\n",
        "3. What are the main differences between lists and tuples in Python  \n",
        "   - lists: You can add, remove, or modify elements within a list using  \n",
        "     indexing and\n",
        "     slicing. Lists are versatile for storing and managing collections that might change.  \n",
        "     Ordered, mutable collections of elements. Think of shopping lists or task lists. Lists can hold items of various data types (numbers, strings, even other lists!).\n",
        "\n",
        "     tuples:  You can access elements using indexing and slicing, but you cannot modify the content. Tuples are useful for representing fixed datasets or configurations.\n",
        "     Ordered, immutable collections of elements, similar to lists. However, once created, the items in a tuple cannot be changed. They provide a secure way to store data that shouldn't be modified.\n",
        "\n",
        "4. Describe how dictionaries store data.\n",
        "   - Dictionaries store data as key-value pairs. each key maps to a value, and use the key to access the corresponding value quickly\n",
        "   Unordered collections: Elements are not stored in a specific order.\n",
        "   Unique key-value pairs: Each key acts as a unique identifier for retrieving an associated value.\n",
        "   Flexible data: Keys and values can be of various data types (strings, numbers, lists, and even other dictionaries).\n",
        "\n",
        "5. Why might you use a set instead of a list in Python?\n",
        "   - use a set instead of a list in python when: sets are unordered sets automatically removes duplicates, checking if an item exits in a set is faster compared to list, set support mathematical operations like union, intersection, and difference.\n",
        "6. What is a string in Python, and how is it different from a list?\n",
        "   - Difference between a string and list:\n",
        "   string: contents characters only, immutable cannot be changed, syntax defined with quotes ' or \", used for text.\n",
        "\n",
        "   List: Any data type (numbers , string, etc.), list is mutable can be changed, defined with square brackets[], used for collections of items.\n",
        "7. How do tuples ensure data integrity in Python?\n",
        "   - Tuples ensure data integrity in Python because they are immutable once a tuple is created, its content cannot be changed.\n",
        "    \n",
        "    . No accidental changes: cant add remove or modify items in tuple.this make sure the data stays exactly as it was when created.\n",
        "\n",
        "    . safe to use as keys: tuples can be used as keys in dictionaries or elements in sets\n",
        "\n",
        "    . Good for fixed collections: tuples are ideal for data that should not change, like coordinating (x,y),dates, or configuration setting.\n",
        "\n",
        "8. What is a hash table, and how does it relate to dictionaries in Python?\n",
        "   - A hash table is a data structure that stores key-value pairs and allows fast data access using a hashing technique.\n",
        "\n",
        "   How It Works:\n",
        "   .A hash function converts the key into a fixed-size number (called a hash).\n",
        "\n",
        "   .That hash determines where the value is stored in memory.\n",
        "\n",
        "   .When you access the key, the hash function finds the correct location almost instantly.\n",
        "   relate to dictionries in python\n",
        "\n",
        "   in python, the dict (dictionary) is implemented using a hash table inder the hood.\n",
        "\n",
        "9. Can lists contain different data types in Python?\n",
        "   -  lists can contain different data types in Python.\n",
        "      Integers\n",
        "\n",
        "      . Integer\n",
        "\n",
        "      . Floats\n",
        "\n",
        "      . Stringe\n",
        "\n",
        "      . Booleans\n",
        "\n",
        "      . Other lists\n",
        "\n",
        "      . Even customs objeccts\n",
        "\n",
        "10. Explain why strings are immutable in Python.\n",
        "    - String are immutable in python string is created it cannot be changed.\n",
        "      . Data Safety and Integrity\n",
        "        Prevents accidental changes to string data, especially when it's shared across parts of a program.\n",
        "\n",
        "        . Performance Optimization\n",
        "          Since strings dont change Python can safely reuse them in memory making your program faster and more memory efficient.\n",
        "\n",
        "        . Hashability\n",
        "          Immutable strings can be used as dictionary keys or in sets because their hash value wont change.\n",
        "\n",
        "        . Consistency with Other Immutable\n",
        "          numbers and tuples, springs remain fixed-making python behavior more predictable and consistent.\n",
        "\n",
        "11. What advantages do dictionaries offer over lists for certain tasks?\n",
        "    - Advantages of dictionries\n",
        "     . Fast Lookups: dictionaries provie fast lookups with constant time 0(1) on average using keys\n",
        "\n",
        "     . key value structure: store data with meaningful keys\n",
        "\n",
        "     . Direct Access: store data with meaningful keys\n",
        "\n",
        "     . flexible data structure: store a wide of range of data types strings, integers, floats, .\n",
        "\n",
        "12.  Describe a scenario where using a tuple would be preferable over a list.\n",
        "     - It’s a fixed pair of values (immutable).\n",
        "\n",
        "      . You won’t accidentally change the coordinates.\n",
        "\n",
        "      . It makes your intention clear: this data is read-only.\n",
        "\n",
        "      . Data should not change (like days of the week, coordinates, etc.)\n",
        "\n",
        "      . You want to use it as a key in a dictionary\n",
        "\n",
        "      . You want to ensure data integrity\n",
        "\n",
        "13. How do sets handle duplicate values in Python?\n",
        "    - sets in python are unorderd collection of unique elements. add duplicate values to a set python automatically removes the duplicates, leaving only one instance of each value.\n",
        "\n",
        "    . Removing duplicates: Use sets to remove duplicates from a list or other iterable.\n",
        "\n",
        "    . Membership testing: Use sets for fast membership testing\n",
        "\n",
        "    . set operations: Use sets for set operations.\n",
        "    \n",
        "14. How does the “in” keyword work differently for lists and dictionaries?\n",
        "    - List: For lists, the in keyword checks if a value is present in the list.\n",
        "      \n",
        "      Dictionaries: for dictionaries,the in keyword checks if a key is present in the dictionary. it uses the dictionary hash table to quickly look up the key.\n",
        "\n",
        "      . Lookup type: For lists, \"in\" checks for values\n",
        "                    For dictionaries, \"in\" checks for keys.\n",
        "\n",
        "      . Loohup speed: Dictionary lookups are generally faster (0(1) average time, list lookup (0(n) time complexity).\n",
        "\n",
        "15. Can you modify the elements of a tuple? Explain why or why not.\n",
        "    - cannot modify the elements of a tuple in python.\n",
        "      why not\n",
        "\n",
        "      because tuples are immutable\n",
        "\n",
        "      . once a tuple is created its contents cannot be changed.\n",
        "       \n",
        "      . cant add remove or updated items.\n",
        "\n",
        "      if the tuple contains mutable object (like a list inside a tuple), you can modify contents of the inner object, just not the tuple itself.\n",
        "      tuple protect their structure which helps ensure data intergrity avoide bugs and makes your code more predictable.\n",
        "\n",
        "16. What is a nested dictionary, and give an example of its use case?\n",
        "    - A nested dictionary in Python is a dictionary where one or more values  \n",
        "      are also dictionaries. It lets you store structured layered data in a clean and organized way.\n",
        "\n",
        "      . use case: Organizing complec data, students records, employee     databases, config setting for sortware, JSON response from APIs\n",
        "\n",
        "17. Describe the time complexity of accessing elements in a dictionary.\n",
        "    - The time complexity of accessing elements in a dictionary\n",
        "\n",
        "      Average Case: O(1) (Constant Time)\n",
        "\n",
        "     . This is because dictionaries use a hash table internally.\n",
        "\n",
        "     . access an element using a key Python\n",
        "\n",
        "     . Applies a hash function to the key.\n",
        "\n",
        "     . Uses the result to find the value's location directly in memory.\n",
        "     \n",
        "     Worst Case: O(n) (Rare)\n",
        "\n",
        "     . This can happen if many keys collide (i.e., hash to the same value).\n",
        "\n",
        "     . But Python handles this very well using techniques like open addressing, so it's rare in practice.\n",
        "\n",
        "     Access by key Average time: 0(1), Worst time: 0(N)\n",
        "     Insert/update key Average time: 0(1), Worst time: 0(n)\n",
        "     Delete key Average time: 0(1), Worst time: 0(n)\n",
        "\n",
        "18.  In what situations are lists preferred over dictionaries?\n",
        "     - . List maintain the order of items which great for sequances.\n",
        "\n",
        "       . if your data doesn't require lables or indentifires,list are simpler and more readable.\n",
        "\n",
        "       . lists allow duplicates, unlike sets or dicitionary keys.\n",
        "\n",
        "       . Use lists when you want to loop through data or access elements by position.\n",
        "\n",
        "       . list have built-in method like .sort(), .reverse(), and support slicing.\n",
        "\n",
        "19. Why are dictionaries considered unordered, and how does that affect data retrieval?\n",
        "    - A dictionary is termed an unordered collection of objects because dictionaries do not maintain any inherent order of the items based on when they were added. In older versions of Python (before 3.7), dictionaries did not preserve insertion order at all.\n",
        "\n",
        "20.  Explain the difference between a list and a dictionary in terms of data retrieval.\n",
        "     - lists access elements by numerical index, while dictionaries access elements by unique keys.\n",
        "\n",
        "     1. lists index based retrieval\n",
        "        \n",
        "        . access elements using their position(index)\n",
        "\n",
        "        . Index starts from 0\n",
        "\n",
        "        . Slower searching value speed (0(n) time).\n",
        "\n",
        "    2. Dictionaries-key-Based retrival\n",
        "       \n",
        "       . access elements using a key, not a position.\n",
        "\n",
        "       . very fast lookup using keys(0(1) average time).\n",
        "\n",
        "       . to get a value, you must now the key.\n",
        "\n",
        "     \n",
        "\n",
        "\n",
        "\n"
      ],
      "metadata": {
        "id": "wqRh6KpqGwLv"
      }
    },
    {
      "cell_type": "code",
      "execution_count": null,
      "metadata": {
        "colab": {
          "base_uri": "https://localhost:8080/"
        },
        "id": "e1hJF7o3Fxat",
        "outputId": "3fb30d82-f47f-468f-845b-bb80a44613f6"
      },
      "outputs": [
        {
          "output_type": "stream",
          "name": "stdout",
          "text": [
            "[1, 2, 3, 4]\n"
          ]
        }
      ],
      "source": [
        "#2.Explain the difference between mutable and immutable data types with examples.\n",
        "my_list = [1,2,3]\n",
        "my_list.append(4)\n",
        "print(my_list)"
      ]
    },
    {
      "cell_type": "code",
      "source": [
        "#set\n",
        "s = {\"red\", \"orange\"}\n",
        "s"
      ],
      "metadata": {
        "colab": {
          "base_uri": "https://localhost:8080/"
        },
        "id": "vhW82FayNbOV",
        "outputId": "a8f8c238-a682-4a1c-cdec-43dd8554d96a"
      },
      "execution_count": null,
      "outputs": [
        {
          "output_type": "execute_result",
          "data": {
            "text/plain": [
              "{'orange', 'red'}"
            ]
          },
          "metadata": {},
          "execution_count": 3
        }
      ]
    },
    {
      "cell_type": "code",
      "source": [
        "type(s)"
      ],
      "metadata": {
        "colab": {
          "base_uri": "https://localhost:8080/"
        },
        "id": "Cx_CmkRcOIVI",
        "outputId": "85bc191c-dd92-4768-a7c9-2ff44124fb9d"
      },
      "execution_count": null,
      "outputs": [
        {
          "output_type": "execute_result",
          "data": {
            "text/plain": [
              "set"
            ]
          },
          "metadata": {},
          "execution_count": 4
        }
      ]
    },
    {
      "cell_type": "code",
      "source": [
        "s = {\"red\", \"orange\", \"red\", \"blue\", \"orange\"}\n",
        "s"
      ],
      "metadata": {
        "colab": {
          "base_uri": "https://localhost:8080/"
        },
        "id": "Bl-AFoT1OMGg",
        "outputId": "4283f8ab-b6ca-4ce2-aeee-fa6dae8e978d"
      },
      "execution_count": null,
      "outputs": [
        {
          "output_type": "execute_result",
          "data": {
            "text/plain": [
              "{'blue', 'orange', 'red'}"
            ]
          },
          "metadata": {},
          "execution_count": 5
        }
      ]
    },
    {
      "cell_type": "code",
      "source": [
        "#dictionary\n",
        "my_dict ={}"
      ],
      "metadata": {
        "id": "4QLgKHIhOVKI"
      },
      "execution_count": null,
      "outputs": []
    },
    {
      "cell_type": "code",
      "source": [
        "type(my_dict)"
      ],
      "metadata": {
        "colab": {
          "base_uri": "https://localhost:8080/"
        },
        "id": "HZqIDwoQO5y-",
        "outputId": "df0cd478-b611-4c84-bea0-7c62191a6116"
      },
      "execution_count": null,
      "outputs": [
        {
          "output_type": "execute_result",
          "data": {
            "text/plain": [
              "dict"
            ]
          },
          "metadata": {},
          "execution_count": 9
        }
      ]
    },
    {
      "cell_type": "code",
      "source": [
        "my_dict = {\"key_course\" : \"data science\", \"duration\":200}\n",
        "my_dict"
      ],
      "metadata": {
        "colab": {
          "base_uri": "https://localhost:8080/"
        },
        "id": "wUgoTbkHPKUP",
        "outputId": "5e20623f-f7c5-45be-d288-9ece42f4fb8b"
      },
      "execution_count": null,
      "outputs": [
        {
          "output_type": "execute_result",
          "data": {
            "text/plain": [
              "{'key_course': 'data science', 'duration': 200}"
            ]
          },
          "metadata": {},
          "execution_count": 10
        }
      ]
    },
    {
      "cell_type": "code",
      "source": [
        "#4.Describe how dictionaries store data.\n",
        "my_dict = {\n",
        "    \"name\": \"yash\",\n",
        "    \"age\": 24,\n",
        "    \"city\": \"mumbai\"\n",
        "}"
      ],
      "metadata": {
        "id": "g42Dn4vHU-S6"
      },
      "execution_count": null,
      "outputs": []
    },
    {
      "cell_type": "code",
      "source": [
        "print(my_dict[\"name\"])\n",
        "my_dict[\"age\"] = 25  #update age\n",
        "my_dict[\"country\"] = \"india\"\n"
      ],
      "metadata": {
        "colab": {
          "base_uri": "https://localhost:8080/"
        },
        "id": "uU8VQXsqPYMH",
        "outputId": "6bfc652a-3ebf-47ea-9186-007029754b1c"
      },
      "execution_count": null,
      "outputs": [
        {
          "output_type": "stream",
          "name": "stdout",
          "text": [
            "yash\n"
          ]
        }
      ]
    },
    {
      "cell_type": "code",
      "source": [
        "#9.Can lists contain different data types in Python?\n",
        "mixed_list = [12, \"hello\", 3.5, True, [1, 2, 3]]\n",
        "print(mixed_list)\n"
      ],
      "metadata": {
        "colab": {
          "base_uri": "https://localhost:8080/"
        },
        "id": "xAVtfoIShwsi",
        "outputId": "80148ec0-aef5-44fc-fe5b-d8ba9ff6c0af"
      },
      "execution_count": null,
      "outputs": [
        {
          "output_type": "stream",
          "name": "stdout",
          "text": [
            "[12, 'hello', 3.5, True, [1, 2, 3]]\n"
          ]
        }
      ]
    },
    {
      "cell_type": "code",
      "source": [
        "#13.How do sets handle duplicate values in Python?\n",
        "my_set = {1,2,2,3,3,3,4}\n",
        "print(my_set)"
      ],
      "metadata": {
        "colab": {
          "base_uri": "https://localhost:8080/"
        },
        "id": "kEstrkWVWeIp",
        "outputId": "1f59e201-cf66-4a20-e5f8-30feff2e9930"
      },
      "execution_count": null,
      "outputs": [
        {
          "output_type": "stream",
          "name": "stdout",
          "text": [
            "{1, 2, 3, 4}\n"
          ]
        }
      ]
    },
    {
      "cell_type": "code",
      "source": [
        "#Remove duplicates\n",
        "my_list = [1,2,3,3,3,4]\n",
        "my_set = set(my_list)\n",
        "print(my_set)"
      ],
      "metadata": {
        "colab": {
          "base_uri": "https://localhost:8080/"
        },
        "id": "vZ1PT3LtKVk-",
        "outputId": "5c893f04-847c-4e42-c373-34235514f207"
      },
      "execution_count": null,
      "outputs": [
        {
          "output_type": "stream",
          "name": "stdout",
          "text": [
            "{1, 2, 3, 4}\n"
          ]
        }
      ]
    },
    {
      "cell_type": "code",
      "source": [
        "my_list_without_duplicates = list(my_set)\n",
        "print(my_list_without_duplicates)"
      ],
      "metadata": {
        "colab": {
          "base_uri": "https://localhost:8080/"
        },
        "id": "u9fII2WlLE2e",
        "outputId": "7096cfcc-6a7e-455b-c842-d5027dbca104"
      },
      "execution_count": null,
      "outputs": [
        {
          "output_type": "stream",
          "name": "stdout",
          "text": [
            "[1, 2, 3, 4]\n"
          ]
        }
      ]
    },
    {
      "cell_type": "code",
      "source": [
        "#14.How does the “in” keyword work differently for lists and dictionaries3\n",
        "#list\n",
        "my_list = [1,2,3,4,5]\n",
        "print(3 in my_list)\n",
        "print( 6 in my_list)"
      ],
      "metadata": {
        "colab": {
          "base_uri": "https://localhost:8080/"
        },
        "id": "VgsfX0xRPRpG",
        "outputId": "3e4d81ef-9523-4489-ddc9-9ee7bbbec69e"
      },
      "execution_count": null,
      "outputs": [
        {
          "output_type": "stream",
          "name": "stdout",
          "text": [
            "True\n",
            "False\n"
          ]
        }
      ]
    },
    {
      "cell_type": "code",
      "source": [
        "#Dictionary\n",
        "my_dict = {\"name\": \"rahul\",\"age\": 30}\n",
        "print(\"name\" in my_dict)\n",
        "print(\"city\" in my_dict)"
      ],
      "metadata": {
        "colab": {
          "base_uri": "https://localhost:8080/"
        },
        "id": "-rMiPiaLLmYK",
        "outputId": "383d89e5-881a-4ab0-bf5d-53d7e207e601"
      },
      "execution_count": null,
      "outputs": [
        {
          "output_type": "stream",
          "name": "stdout",
          "text": [
            "True\n",
            "False\n"
          ]
        }
      ]
    },
    {
      "cell_type": "code",
      "source": [
        "#16.What is a nested dictionary, and give an example of its use case?\n",
        "students ={\n",
        " \"101\":  {\"name\": \"yash\", \"age\": 25, \"marks\": 85},\n",
        " \"102\":  {\"name\": \"Anjali\", \"age\": 24,\"marks\":92}\n",
        "}\n",
        "#\"101\" and \"102\" keys are outer dictionary\n",
        "\n"
      ],
      "metadata": {
        "id": "gganaPTMQW_E"
      },
      "execution_count": null,
      "outputs": []
    },
    {
      "cell_type": "code",
      "source": [
        "print(students[\"101\"][\"name\"])\n",
        "print(students[\"102\"][\"marks\"])"
      ],
      "metadata": {
        "colab": {
          "base_uri": "https://localhost:8080/"
        },
        "id": "I6xM4BHZ1Td_",
        "outputId": "6bb9160a-a63e-4e3e-df43-2d79d6b2f451"
      },
      "execution_count": null,
      "outputs": [
        {
          "output_type": "stream",
          "name": "stdout",
          "text": [
            "yash\n",
            "92\n"
          ]
        }
      ]
    },
    {
      "cell_type": "code",
      "source": [
        "#1.Write a code to create a string with your name and print it.\n",
        "my_name = \"Yash\"\n",
        "print(\"My name is\", my_name)\n"
      ],
      "metadata": {
        "colab": {
          "base_uri": "https://localhost:8080/"
        },
        "id": "23pCvrHm2hd-",
        "outputId": "ef22646a-7961-49ff-9fd4-32b19a9a18e7"
      },
      "execution_count": null,
      "outputs": [
        {
          "output_type": "stream",
          "name": "stdout",
          "text": [
            "My name is Yash\n"
          ]
        }
      ]
    },
    {
      "cell_type": "code",
      "source": [
        "#2.Write a code to find the length of the string \"Hello World\".\n",
        "message = \"Hello World\"\n",
        "length = len(message)\n",
        "print(\"length of the string is:\", length)"
      ],
      "metadata": {
        "colab": {
          "base_uri": "https://localhost:8080/"
        },
        "id": "NVoeENDoDfzq",
        "outputId": "370b51c8-c78b-4637-eca2-df42a8d09274"
      },
      "execution_count": null,
      "outputs": [
        {
          "output_type": "stream",
          "name": "stdout",
          "text": [
            "length of the string is: 11\n"
          ]
        }
      ]
    },
    {
      "cell_type": "code",
      "source": [
        "#3.Write a code to slice the first 3 characters from the string \"Python Programming\".\n",
        "text = \"Python Programming\"\n",
        "sliced = text[:3]\n",
        "print(\"First 3 characters:\", sliced)\n"
      ],
      "metadata": {
        "colab": {
          "base_uri": "https://localhost:8080/"
        },
        "id": "Xy-qxH47EbMR",
        "outputId": "0fa4b291-2b20-4fe0-b26a-86a68a971061"
      },
      "execution_count": null,
      "outputs": [
        {
          "output_type": "stream",
          "name": "stdout",
          "text": [
            "First 3 characters: Pyt\n"
          ]
        }
      ]
    },
    {
      "cell_type": "code",
      "source": [
        "#4.Write a code to convert the string \"hello\" to uppercase.\n",
        "text = \"hello\"\n",
        "uppercase_text = text.upper()\n",
        "print(\"Uppercase:\", uppercase_text)\n"
      ],
      "metadata": {
        "colab": {
          "base_uri": "https://localhost:8080/"
        },
        "id": "ltyiu4x7E3Z3",
        "outputId": "c79c039b-f7ce-4c26-9102-c5eb2c773919"
      },
      "execution_count": null,
      "outputs": [
        {
          "output_type": "stream",
          "name": "stdout",
          "text": [
            "Uppercase: HELLO\n"
          ]
        }
      ]
    },
    {
      "cell_type": "code",
      "source": [
        "#5.Write a code to replace the word \"apple\" with \"orange\" in the string \"I like apple\".\n",
        "text = \"I like apple\"\n",
        "new_text = text.replace(\"apple\", \"orange\")\n",
        "print(new_text)"
      ],
      "metadata": {
        "colab": {
          "base_uri": "https://localhost:8080/"
        },
        "id": "4sp10X7tFLvE",
        "outputId": "9e3bd522-b14c-4497-92d8-0c3ab001e7ff"
      },
      "execution_count": null,
      "outputs": [
        {
          "output_type": "stream",
          "name": "stdout",
          "text": [
            "I like orange\n"
          ]
        }
      ]
    },
    {
      "cell_type": "code",
      "source": [
        "#6.Write a code to create a list with numbers 1 to 5 and print it.\n",
        "numbers = [1, 2, 3, 4, 5]\n",
        "print(\"List of numbers:\", numbers)\n"
      ],
      "metadata": {
        "colab": {
          "base_uri": "https://localhost:8080/"
        },
        "id": "vkruutr4GOg1",
        "outputId": "f11add81-bc11-418a-8f98-79456a6b042f"
      },
      "execution_count": null,
      "outputs": [
        {
          "output_type": "stream",
          "name": "stdout",
          "text": [
            "List of numbers: [1, 2, 3, 4, 5]\n"
          ]
        }
      ]
    },
    {
      "cell_type": "code",
      "source": [
        "#7.Write a code to append the number 10 to the list [1, 2, 3, 4].\n",
        "numbers = [1,2,3,4]\n",
        "numbers.append(10)\n",
        "print(\"update list:\", numbers)"
      ],
      "metadata": {
        "colab": {
          "base_uri": "https://localhost:8080/"
        },
        "id": "MVgVorRwGqcR",
        "outputId": "42bd3770-9cb7-493a-9bad-7403a0ee9b20"
      },
      "execution_count": null,
      "outputs": [
        {
          "output_type": "stream",
          "name": "stdout",
          "text": [
            "update list: [1, 2, 3, 4, 10]\n"
          ]
        }
      ]
    },
    {
      "cell_type": "code",
      "source": [
        "#8.P Write a code to remove the number 3 from the list [1, 2, 3, 4, 5].\n",
        "numbers = [1,2,3,4,5]\n",
        "numbers.remove(3)\n",
        "print(\"updatelist:\", numbers)"
      ],
      "metadata": {
        "colab": {
          "base_uri": "https://localhost:8080/"
        },
        "id": "xLY9llKSHYv8",
        "outputId": "8961a266-c2b8-482f-fa72-b7b1d8cbd86c"
      },
      "execution_count": null,
      "outputs": [
        {
          "output_type": "stream",
          "name": "stdout",
          "text": [
            "updatelist: [1, 2, 4, 5]\n"
          ]
        }
      ]
    },
    {
      "cell_type": "code",
      "source": [
        "#9.Write a code to access the second element in the list ['a', 'b', 'c', 'd'].\n",
        "letters = ['a', 'b', 'c', 'd']\n",
        "second_element = letters[1]\n",
        "print(\"Second element:\", second_element)\n"
      ],
      "metadata": {
        "id": "8f-l2SRhH8qm",
        "colab": {
          "base_uri": "https://localhost:8080/"
        },
        "outputId": "7f839caa-7a35-42e7-ca9a-37e4371cd10a"
      },
      "execution_count": 16,
      "outputs": [
        {
          "output_type": "stream",
          "name": "stdout",
          "text": [
            "Second element: b\n"
          ]
        }
      ]
    },
    {
      "cell_type": "code",
      "source": [
        "#10.Write a code to reverse the list [10, 20, 30, 40, 50].\n",
        "numbers = [10, 20, 30, 40, 50]\n",
        "numbers.reverse()\n",
        "print(\"Reversed list:\", numbers)"
      ],
      "metadata": {
        "colab": {
          "base_uri": "https://localhost:8080/"
        },
        "id": "SKuI_EvyIzL8",
        "outputId": "988dfa48-d4d8-401b-fa5f-70b282c4ad0b"
      },
      "execution_count": 17,
      "outputs": [
        {
          "output_type": "stream",
          "name": "stdout",
          "text": [
            "Reversed list: [50, 40, 30, 20, 10]\n"
          ]
        }
      ]
    },
    {
      "cell_type": "code",
      "source": [
        "#11. Write a code to create a tuple with the elements 100, 200, 300 and print it.\n",
        "my_tuple = (100, 200, 300)\n",
        "print(\"Tuple:\", my_tuple)\n"
      ],
      "metadata": {
        "colab": {
          "base_uri": "https://localhost:8080/"
        },
        "id": "ztv0Bsp6KHcw",
        "outputId": "df406e2f-4b97-4d42-fa4e-f466af40e115"
      },
      "execution_count": 18,
      "outputs": [
        {
          "output_type": "stream",
          "name": "stdout",
          "text": [
            "Tuple: (100, 200, 300)\n"
          ]
        }
      ]
    },
    {
      "cell_type": "code",
      "source": [
        "#12.Write a code to access the second-to-last element of the tuple ('red', 'green', 'blue', 'yellow').\n",
        "colors = ('red', 'green', 'blue', 'yellow')\n",
        "second_last = colors[-2]\n",
        "print(\"scond-to-last element:\", second_last)"
      ],
      "metadata": {
        "colab": {
          "base_uri": "https://localhost:8080/"
        },
        "id": "dqQYQPzCKqhG",
        "outputId": "1314c89f-ed7f-4d6f-a8f9-985592f54d3c"
      },
      "execution_count": 20,
      "outputs": [
        {
          "output_type": "stream",
          "name": "stdout",
          "text": [
            "scond-to-last element: blue\n"
          ]
        }
      ]
    },
    {
      "cell_type": "code",
      "source": [
        "#13. Write a code to find the minimum number in the tuple (10, 20, 5, 15).\n",
        "my_tuple = (10, 20, 5, 15)\n",
        "min_number = min(my_tuple)\n",
        "print(\"minimum number:\", min_number)"
      ],
      "metadata": {
        "colab": {
          "base_uri": "https://localhost:8080/"
        },
        "id": "1M1xgmjfQrnW",
        "outputId": "e6df5925-6310-441b-9d46-8021fec9df68"
      },
      "execution_count": 21,
      "outputs": [
        {
          "output_type": "stream",
          "name": "stdout",
          "text": [
            "minimum number: 5\n"
          ]
        }
      ]
    },
    {
      "cell_type": "code",
      "source": [
        "#14. Write a code to find the index of the element \"cat\" in the tuple ('dog', 'cat', 'rabbit').\n",
        "animals = ('dog', 'cat', 'rabit',)\n",
        "cat_index = animals.index('cat')\n",
        "print(\"index of cat:\", cat_index)"
      ],
      "metadata": {
        "colab": {
          "base_uri": "https://localhost:8080/"
        },
        "id": "vev-82oFRdel",
        "outputId": "ea451e46-6574-49c6-c734-ad6ec3f78310"
      },
      "execution_count": 22,
      "outputs": [
        {
          "output_type": "stream",
          "name": "stdout",
          "text": [
            "index of cat: 1\n"
          ]
        }
      ]
    },
    {
      "cell_type": "code",
      "source": [
        "#15.Write a code to create a tuple containing three different fruits and check if \"kiwi\" is in it.\n",
        "fruits = (\"apple\", \"banana\", \"orange\")\n",
        "\n",
        "if \"kiwi\" in fruits:\n",
        "    print(\"Kiwi is in the tuple.\")\n",
        "else:\n",
        "    print(\"Kiwi is not in the tuple.\")\n"
      ],
      "metadata": {
        "colab": {
          "base_uri": "https://localhost:8080/"
        },
        "id": "fkQhNVGySW-a",
        "outputId": "b77ba4e7-cb27-43cc-b594-10d98d032024"
      },
      "execution_count": 23,
      "outputs": [
        {
          "output_type": "stream",
          "name": "stdout",
          "text": [
            "Kiwi is not in the tuple.\n"
          ]
        }
      ]
    },
    {
      "cell_type": "code",
      "source": [
        "#16. Write a code to create a set with the elements 'a', 'b', 'c' and print it.\n",
        "my_set = {'a','b','c',}\n",
        "print(\"set:\", my_set)\n"
      ],
      "metadata": {
        "colab": {
          "base_uri": "https://localhost:8080/"
        },
        "id": "pCCPomvDTEsy",
        "outputId": "2badf2d4-4ed0-4cb3-94a3-356b3a8aefb6"
      },
      "execution_count": 24,
      "outputs": [
        {
          "output_type": "stream",
          "name": "stdout",
          "text": [
            "set: {'a', 'b', 'c'}\n"
          ]
        }
      ]
    },
    {
      "cell_type": "code",
      "source": [
        "#17.Write a code to clear all elements from the set {1, 2, 3, 4, 5}.\n",
        "my_set = {1, 2, 3, 4, 5}\n",
        "my_set.clear ()\n",
        "print(\"cleared set:\", my_set)"
      ],
      "metadata": {
        "colab": {
          "base_uri": "https://localhost:8080/"
        },
        "id": "-Ys8qM9qT7kT",
        "outputId": "f11f8a7c-571a-4dab-a80e-c856657d87dc"
      },
      "execution_count": 28,
      "outputs": [
        {
          "output_type": "stream",
          "name": "stdout",
          "text": [
            "cleared set: set()\n"
          ]
        }
      ]
    },
    {
      "cell_type": "code",
      "source": [
        "#18.Write a code to remove the element 4 from the set {1, 2, 3, 4}.\n",
        "my_set = {1, 2, 3, 4}\n",
        "my_set.remove(4)\n",
        "print(\"update:\", my_set)"
      ],
      "metadata": {
        "colab": {
          "base_uri": "https://localhost:8080/"
        },
        "id": "SIBbpC1iVDx6",
        "outputId": "194ccca4-a0ac-42d0-c264-47dae0a29cf2"
      },
      "execution_count": 29,
      "outputs": [
        {
          "output_type": "stream",
          "name": "stdout",
          "text": [
            "update: {1, 2, 3}\n"
          ]
        }
      ]
    },
    {
      "cell_type": "code",
      "source": [
        "#19.Write a code to find the union of two sets {1, 2, 3} and {3, 4, 5}.\n",
        "set1 = {1, 2, 3}\n",
        "set2 = {3, 4, 5}\n",
        "union_set = set1.union(set2)\n",
        "print(\"union of set:\", union_set)"
      ],
      "metadata": {
        "colab": {
          "base_uri": "https://localhost:8080/"
        },
        "id": "C6urWWveWKqJ",
        "outputId": "e7e8732b-919d-43b9-9753-6489f75a5687"
      },
      "execution_count": 31,
      "outputs": [
        {
          "output_type": "stream",
          "name": "stdout",
          "text": [
            "union of set: {1, 2, 3, 4, 5}\n"
          ]
        }
      ]
    },
    {
      "cell_type": "code",
      "source": [
        "#20.Write a code to find the intersection of two sets {1, 2, 3} and {2, 3, 4}.\n",
        "set1 = {1, 2, 3}\n",
        "set2 = {2, 3, 4}\n",
        "intersection_set = set1.intersection(set2)\n",
        "print(\"intersecton of set:\", intersection_set)\n"
      ],
      "metadata": {
        "colab": {
          "base_uri": "https://localhost:8080/"
        },
        "id": "6Hj-aAC9Xgbw",
        "outputId": "d596f814-2c75-48d5-9e86-e09128398ae0"
      },
      "execution_count": 32,
      "outputs": [
        {
          "output_type": "stream",
          "name": "stdout",
          "text": [
            "intersecton of set: {2, 3}\n"
          ]
        }
      ]
    },
    {
      "cell_type": "code",
      "source": [
        "#21.Write a code to create a dictionary with the keys \"name\", \"age\", and \"city\", and print it.\n",
        "person = {\n",
        "    \"name\": \"rahul\",\n",
        "    \"age\": 26,\n",
        "    \"city\": \"mumbai\"\n",
        "}\n",
        "print(\"Dictionary:\", person)"
      ],
      "metadata": {
        "colab": {
          "base_uri": "https://localhost:8080/"
        },
        "id": "3ztTxV56ZApe",
        "outputId": "70de5c0b-33da-4b1a-8c42-d1db36753bf2"
      },
      "execution_count": 3,
      "outputs": [
        {
          "output_type": "stream",
          "name": "stdout",
          "text": [
            "Dictionary: {'name': 'rahul', 'age': 26, 'city': 'mumbai'}\n"
          ]
        }
      ]
    },
    {
      "cell_type": "code",
      "source": [
        "#22. Write a code to add a new key-value pair \"country\": \"USA\" to the dictionary {'name': 'John', 'age': 25}.\n",
        "person = {'name': 'john', 'age': 25}\n",
        "person[\"country\"]= \"usa\"\n",
        "print(\"updated dictonary:\", person)"
      ],
      "metadata": {
        "colab": {
          "base_uri": "https://localhost:8080/"
        },
        "id": "4lk7Ps5nX-tj",
        "outputId": "443ff6bf-ddda-43df-e033-d214c46cd6d6"
      },
      "execution_count": 4,
      "outputs": [
        {
          "output_type": "stream",
          "name": "stdout",
          "text": [
            "updated dictonary: {'name': 'john', 'age': 25, 'country': 'usa'}\n"
          ]
        }
      ]
    },
    {
      "cell_type": "code",
      "source": [
        "#23.Write a code to access the value associated with the key \"name\" in the dictionary {'name': 'Alice', 'age': 30}.\n",
        "person = {'name': 'Alice', 'age': 30}\n",
        "name_value = person[\"name\"]\n",
        "print(\"value of name:\" , name_value)\n"
      ],
      "metadata": {
        "colab": {
          "base_uri": "https://localhost:8080/"
        },
        "id": "uf-bVnxza_SY",
        "outputId": "2ee1cf13-4f97-4616-9761-0fee85adfbbe"
      },
      "execution_count": 5,
      "outputs": [
        {
          "output_type": "stream",
          "name": "stdout",
          "text": [
            "value of name: Alice\n"
          ]
        }
      ]
    },
    {
      "cell_type": "code",
      "source": [
        "#24. Write a code to remove the key \"age\" from the dictionary {'name': 'Bob', 'age': 22, 'city': 'New York'}.\n",
        "person = {'name': 'Bob', 'age': 22, 'city': 'New York'}\n",
        "del person[\"age\"]\n",
        "print(\"updated:\", person)\n"
      ],
      "metadata": {
        "colab": {
          "base_uri": "https://localhost:8080/"
        },
        "id": "9hNjbE_vb0tP",
        "outputId": "ca5f3614-e4fa-4b43-a7d4-82d52355c016"
      },
      "execution_count": 6,
      "outputs": [
        {
          "output_type": "stream",
          "name": "stdout",
          "text": [
            "updated: {'name': 'Bob', 'city': 'New York'}\n"
          ]
        }
      ]
    },
    {
      "cell_type": "code",
      "source": [
        "#25.Write a code to check if the key \"city\" exists in the dictionary {'name': 'Alice', 'city': 'Paris'}.\n",
        "person = {'name': 'Alice', 'city': 'Paris'}\n",
        "if \"city\" in person:\n",
        "  print(\"key 'city' does not exit in the dictionary.\")"
      ],
      "metadata": {
        "colab": {
          "base_uri": "https://localhost:8080/"
        },
        "id": "6Mr9hnQ6cbIQ",
        "outputId": "01984a96-ce10-4013-bd68-86d581d3a3ff"
      },
      "execution_count": 8,
      "outputs": [
        {
          "output_type": "stream",
          "name": "stdout",
          "text": [
            "key 'city' does not exit in the dictionary.\n"
          ]
        }
      ]
    },
    {
      "cell_type": "code",
      "source": [
        "#26. Write a code to create a list, a tuple, and a dictionary, and print them all.\n",
        "# Creating a list\n",
        "my_list = [1, 2, 3, 4, 5]\n",
        "\n",
        "# Creating a tuple\n",
        "my_tuple = (\"apple\", \"banana\", \"cherry\")\n",
        "\n",
        "# Creating a dictionary\n",
        "my_dict = {\"name\": \"Yash\", \"age\": 25, \"city\": \"Jodhpur\"}\n",
        "\n",
        "# Printing them all\n",
        "print(\"List:\", my_list)\n",
        "print(\"Tuple:\", my_tuple)\n",
        "print(\"Dictionary:\", my_dict)\n",
        "\n",
        "\n"
      ],
      "metadata": {
        "colab": {
          "base_uri": "https://localhost:8080/"
        },
        "id": "Le1pbBA2fg1L",
        "outputId": "f3da14d2-685c-460a-9531-5490c4011772"
      },
      "execution_count": 10,
      "outputs": [
        {
          "output_type": "stream",
          "name": "stdout",
          "text": [
            "List: [1, 2, 3, 4, 5]\n",
            "Tuple: ('apple', 'banana', 'cherry')\n",
            "Dictionary: {'name': 'Yash', 'age': 25, 'city': 'Jodhpur'}\n"
          ]
        }
      ]
    },
    {
      "cell_type": "code",
      "source": [
        "#27. Write a code to create a list of 5 random numbers between 1 and 100, sort it in ascending order, and print the result.(replaced)\n",
        "import random\n",
        "random_numbers = [random.randint(1, 100) for _ in range(5)]\n",
        "random_numbers.sort()\n",
        "print(\"Sorted random numbers:\", random_numbers)\n"
      ],
      "metadata": {
        "colab": {
          "base_uri": "https://localhost:8080/"
        },
        "id": "9S_bPVdggQjy",
        "outputId": "89d0a37a-18f7-4eb4-c23a-175b6ef8a18c"
      },
      "execution_count": 18,
      "outputs": [
        {
          "output_type": "stream",
          "name": "stdout",
          "text": [
            "Sorted random numbers: [3, 57, 63, 65, 70]\n"
          ]
        }
      ]
    },
    {
      "cell_type": "code",
      "source": [
        "#28.. Write a code to create a list with strings and print the element at the third index.\n",
        "my_list = [\"apple\", \"banana\", \"cherry\", \"date\", \"elderberry\"]\n",
        "third_element = my_list [2]\n",
        "print(\"Element at inedx 2:\", third_element)\n"
      ],
      "metadata": {
        "colab": {
          "base_uri": "https://localhost:8080/"
        },
        "id": "OI5epruhikyh",
        "outputId": "f4b623ec-580a-485c-97c1-3214456972a6"
      },
      "execution_count": 19,
      "outputs": [
        {
          "output_type": "stream",
          "name": "stdout",
          "text": [
            "Element at inedx 2: cherry\n"
          ]
        }
      ]
    },
    {
      "cell_type": "code",
      "source": [
        "#29.Write a code to combine two dictionaries into one and print the result.\n",
        "dict1 = {\"name\": \"Rahul\", \"age\": 26}\n",
        "dict2 = {\"city\": \"Jaipur\", \"country\": \"India\"}\n",
        "\n",
        "combined_dict = {**dict1, **dict2}\n",
        "print(\"Combined Dictionary:\", combined_dict)\n"
      ],
      "metadata": {
        "colab": {
          "base_uri": "https://localhost:8080/"
        },
        "id": "M0938p66lZlV",
        "outputId": "1d2fb2e9-1bdf-4c64-be52-1d4d2ae9ae7a"
      },
      "execution_count": 23,
      "outputs": [
        {
          "output_type": "stream",
          "name": "stdout",
          "text": [
            "Combined Dictionary: {'name': 'Rahul', 'age': 26, 'city': 'Jaipur', 'country': 'India'}\n"
          ]
        }
      ]
    },
    {
      "cell_type": "code",
      "source": [
        "#30. Write a code to convert a list of strings into a set.\n",
        "my_list = {\"apple\", \"banana\", \"cherry\", \"date\", \"elderberry\"}\n",
        "my_set = set(my_list)\n",
        "print(\"set:\", my_set)"
      ],
      "metadata": {
        "colab": {
          "base_uri": "https://localhost:8080/"
        },
        "id": "rxDdTFP7ncRc",
        "outputId": "70b3515b-4890-4b1d-cb1a-67c54384ad9e"
      },
      "execution_count": 24,
      "outputs": [
        {
          "output_type": "stream",
          "name": "stdout",
          "text": [
            "set: {'apple', 'banana', 'date', 'cherry', 'elderberry'}\n"
          ]
        }
      ]
    },
    {
      "cell_type": "code",
      "source": [
        "#questions\n",
        "\"\"\"\n",
        "this is answer\n",
        "\"\"\""
      ],
      "metadata": {
        "colab": {
          "base_uri": "https://localhost:8080/",
          "height": 36
        },
        "id": "NJ_2Uos9pd8i",
        "outputId": "341a8e7a-f899-4b3d-9b70-a04e8e863f31"
      },
      "execution_count": 25,
      "outputs": [
        {
          "output_type": "execute_result",
          "data": {
            "text/plain": [
              "'\\nthis is answer\\n'"
            ],
            "application/vnd.google.colaboratory.intrinsic+json": {
              "type": "string"
            }
          },
          "metadata": {},
          "execution_count": 25
        }
      ]
    },
    {
      "cell_type": "code",
      "source": [],
      "metadata": {
        "id": "vA3-5gtmrv_f"
      },
      "execution_count": null,
      "outputs": []
    }
  ]
}